{
 "cells": [
  {
   "cell_type": "markdown",
   "metadata": {},
   "source": [
    "# Manish Sidhenkiwar\n",
    "LinkedIn: https://www.linkedin.com/in/msid02/"
   ]
  },
  {
   "cell_type": "markdown",
   "metadata": {},
   "source": [
    "# KNN Project\n",
    "\n",
    "Due to the simplicity of KNN for Classification, let's focus on using a PipeLine and a GridSearchCV tool, since these skills can be generalized for any model."
   ]
  },
  {
   "cell_type": "markdown",
   "metadata": {},
   "source": [
    "\n",
    "## The Sonar Data \n",
    "\n",
    "### Detecting a Rock or a Mine\n",
    "\n",
    "Sonar (sound navigation ranging) is a technique that uses sound propagation (usually underwater, as in submarine navigation) to navigate, communicate with or detect objects on or under the surface of the water, such as other vessels.\n",
    "\n",
    "<img src=\"sonar.jpg\"  style=\"max-height: 500px; max-width: 500px;\">\n",
    "\n",
    "The data set contains the response metrics for 60 separate sonar frequencies sent out against a known mine field (and known rocks). These frequencies are then labeled with the known object they were beaming the sound at (either a rock or a mine). \n",
    "\n",
    "<img src=\"mine.jpg\"  style=\"max-height: 500px; max-width: 500px;\">\n",
    "\n",
    "Our main goal is to create a machine learning model capable of detecting the difference between a rock or a mine based on the response of the 60 separate sonar frequencies.\n",
    "\n",
    "\n",
    "Data Source: https://archive.ics.uci.edu/ml/datasets/Connectionist+Bench+(Sonar,+Mines+vs.+Rocks)\n",
    "\n",
    "### Complete the Tasks in bold\n",
    "\n",
    "**TASK: Run the cells below to load the data.**"
   ]
  },
  {
   "cell_type": "code",
   "execution_count": 1,
   "metadata": {},
   "outputs": [],
   "source": [
    "#Import libraries\n",
    "import numpy as np\n",
    "import pandas as pd\n",
    "import seaborn as sns\n",
    "import matplotlib.pyplot as plt"
   ]
  },
  {
   "cell_type": "code",
   "execution_count": 2,
   "metadata": {},
   "outputs": [],
   "source": [
    "#Import dataset\n",
    "df = pd.read_csv('../DATA/sonar.all-data.csv')"
   ]
  },
  {
   "cell_type": "code",
   "execution_count": 3,
   "metadata": {},
   "outputs": [
    {
     "data": {
      "text/html": [
       "<div>\n",
       "<style scoped>\n",
       "    .dataframe tbody tr th:only-of-type {\n",
       "        vertical-align: middle;\n",
       "    }\n",
       "\n",
       "    .dataframe tbody tr th {\n",
       "        vertical-align: top;\n",
       "    }\n",
       "\n",
       "    .dataframe thead th {\n",
       "        text-align: right;\n",
       "    }\n",
       "</style>\n",
       "<table border=\"1\" class=\"dataframe\">\n",
       "  <thead>\n",
       "    <tr style=\"text-align: right;\">\n",
       "      <th></th>\n",
       "      <th>Freq_1</th>\n",
       "      <th>Freq_2</th>\n",
       "      <th>Freq_3</th>\n",
       "      <th>Freq_4</th>\n",
       "      <th>Freq_5</th>\n",
       "      <th>Freq_6</th>\n",
       "      <th>Freq_7</th>\n",
       "      <th>Freq_8</th>\n",
       "      <th>Freq_9</th>\n",
       "      <th>Freq_10</th>\n",
       "      <th>...</th>\n",
       "      <th>Freq_52</th>\n",
       "      <th>Freq_53</th>\n",
       "      <th>Freq_54</th>\n",
       "      <th>Freq_55</th>\n",
       "      <th>Freq_56</th>\n",
       "      <th>Freq_57</th>\n",
       "      <th>Freq_58</th>\n",
       "      <th>Freq_59</th>\n",
       "      <th>Freq_60</th>\n",
       "      <th>Label</th>\n",
       "    </tr>\n",
       "  </thead>\n",
       "  <tbody>\n",
       "    <tr>\n",
       "      <th>0</th>\n",
       "      <td>0.0200</td>\n",
       "      <td>0.0371</td>\n",
       "      <td>0.0428</td>\n",
       "      <td>0.0207</td>\n",
       "      <td>0.0954</td>\n",
       "      <td>0.0986</td>\n",
       "      <td>0.1539</td>\n",
       "      <td>0.1601</td>\n",
       "      <td>0.3109</td>\n",
       "      <td>0.2111</td>\n",
       "      <td>...</td>\n",
       "      <td>0.0027</td>\n",
       "      <td>0.0065</td>\n",
       "      <td>0.0159</td>\n",
       "      <td>0.0072</td>\n",
       "      <td>0.0167</td>\n",
       "      <td>0.0180</td>\n",
       "      <td>0.0084</td>\n",
       "      <td>0.0090</td>\n",
       "      <td>0.0032</td>\n",
       "      <td>R</td>\n",
       "    </tr>\n",
       "    <tr>\n",
       "      <th>1</th>\n",
       "      <td>0.0453</td>\n",
       "      <td>0.0523</td>\n",
       "      <td>0.0843</td>\n",
       "      <td>0.0689</td>\n",
       "      <td>0.1183</td>\n",
       "      <td>0.2583</td>\n",
       "      <td>0.2156</td>\n",
       "      <td>0.3481</td>\n",
       "      <td>0.3337</td>\n",
       "      <td>0.2872</td>\n",
       "      <td>...</td>\n",
       "      <td>0.0084</td>\n",
       "      <td>0.0089</td>\n",
       "      <td>0.0048</td>\n",
       "      <td>0.0094</td>\n",
       "      <td>0.0191</td>\n",
       "      <td>0.0140</td>\n",
       "      <td>0.0049</td>\n",
       "      <td>0.0052</td>\n",
       "      <td>0.0044</td>\n",
       "      <td>R</td>\n",
       "    </tr>\n",
       "    <tr>\n",
       "      <th>2</th>\n",
       "      <td>0.0262</td>\n",
       "      <td>0.0582</td>\n",
       "      <td>0.1099</td>\n",
       "      <td>0.1083</td>\n",
       "      <td>0.0974</td>\n",
       "      <td>0.2280</td>\n",
       "      <td>0.2431</td>\n",
       "      <td>0.3771</td>\n",
       "      <td>0.5598</td>\n",
       "      <td>0.6194</td>\n",
       "      <td>...</td>\n",
       "      <td>0.0232</td>\n",
       "      <td>0.0166</td>\n",
       "      <td>0.0095</td>\n",
       "      <td>0.0180</td>\n",
       "      <td>0.0244</td>\n",
       "      <td>0.0316</td>\n",
       "      <td>0.0164</td>\n",
       "      <td>0.0095</td>\n",
       "      <td>0.0078</td>\n",
       "      <td>R</td>\n",
       "    </tr>\n",
       "    <tr>\n",
       "      <th>3</th>\n",
       "      <td>0.0100</td>\n",
       "      <td>0.0171</td>\n",
       "      <td>0.0623</td>\n",
       "      <td>0.0205</td>\n",
       "      <td>0.0205</td>\n",
       "      <td>0.0368</td>\n",
       "      <td>0.1098</td>\n",
       "      <td>0.1276</td>\n",
       "      <td>0.0598</td>\n",
       "      <td>0.1264</td>\n",
       "      <td>...</td>\n",
       "      <td>0.0121</td>\n",
       "      <td>0.0036</td>\n",
       "      <td>0.0150</td>\n",
       "      <td>0.0085</td>\n",
       "      <td>0.0073</td>\n",
       "      <td>0.0050</td>\n",
       "      <td>0.0044</td>\n",
       "      <td>0.0040</td>\n",
       "      <td>0.0117</td>\n",
       "      <td>R</td>\n",
       "    </tr>\n",
       "    <tr>\n",
       "      <th>4</th>\n",
       "      <td>0.0762</td>\n",
       "      <td>0.0666</td>\n",
       "      <td>0.0481</td>\n",
       "      <td>0.0394</td>\n",
       "      <td>0.0590</td>\n",
       "      <td>0.0649</td>\n",
       "      <td>0.1209</td>\n",
       "      <td>0.2467</td>\n",
       "      <td>0.3564</td>\n",
       "      <td>0.4459</td>\n",
       "      <td>...</td>\n",
       "      <td>0.0031</td>\n",
       "      <td>0.0054</td>\n",
       "      <td>0.0105</td>\n",
       "      <td>0.0110</td>\n",
       "      <td>0.0015</td>\n",
       "      <td>0.0072</td>\n",
       "      <td>0.0048</td>\n",
       "      <td>0.0107</td>\n",
       "      <td>0.0094</td>\n",
       "      <td>R</td>\n",
       "    </tr>\n",
       "  </tbody>\n",
       "</table>\n",
       "<p>5 rows × 61 columns</p>\n",
       "</div>"
      ],
      "text/plain": [
       "   Freq_1  Freq_2  Freq_3  Freq_4  Freq_5  Freq_6  Freq_7  Freq_8  Freq_9  \\\n",
       "0  0.0200  0.0371  0.0428  0.0207  0.0954  0.0986  0.1539  0.1601  0.3109   \n",
       "1  0.0453  0.0523  0.0843  0.0689  0.1183  0.2583  0.2156  0.3481  0.3337   \n",
       "2  0.0262  0.0582  0.1099  0.1083  0.0974  0.2280  0.2431  0.3771  0.5598   \n",
       "3  0.0100  0.0171  0.0623  0.0205  0.0205  0.0368  0.1098  0.1276  0.0598   \n",
       "4  0.0762  0.0666  0.0481  0.0394  0.0590  0.0649  0.1209  0.2467  0.3564   \n",
       "\n",
       "   Freq_10  ...  Freq_52  Freq_53  Freq_54  Freq_55  Freq_56  Freq_57  \\\n",
       "0   0.2111  ...   0.0027   0.0065   0.0159   0.0072   0.0167   0.0180   \n",
       "1   0.2872  ...   0.0084   0.0089   0.0048   0.0094   0.0191   0.0140   \n",
       "2   0.6194  ...   0.0232   0.0166   0.0095   0.0180   0.0244   0.0316   \n",
       "3   0.1264  ...   0.0121   0.0036   0.0150   0.0085   0.0073   0.0050   \n",
       "4   0.4459  ...   0.0031   0.0054   0.0105   0.0110   0.0015   0.0072   \n",
       "\n",
       "   Freq_58  Freq_59  Freq_60  Label  \n",
       "0   0.0084   0.0090   0.0032      R  \n",
       "1   0.0049   0.0052   0.0044      R  \n",
       "2   0.0164   0.0095   0.0078      R  \n",
       "3   0.0044   0.0040   0.0117      R  \n",
       "4   0.0048   0.0107   0.0094      R  \n",
       "\n",
       "[5 rows x 61 columns]"
      ]
     },
     "execution_count": 3,
     "metadata": {},
     "output_type": "execute_result"
    }
   ],
   "source": [
    "df.head()"
   ]
  },
  {
   "cell_type": "markdown",
   "metadata": {},
   "source": [
    "## Data Exploration\n",
    "\n",
    "**TASK: Create a heatmap of the correlation between the difference frequency responses.**"
   ]
  },
  {
   "cell_type": "code",
   "execution_count": 4,
   "metadata": {},
   "outputs": [
    {
     "data": {
      "image/png": "[encoded data removed]",
      "text/plain": [
       "<Figure size 576x432 with 2 Axes>"
      ]
     },
     "metadata": {
      "needs_background": "light"
     },
     "output_type": "display_data"
    }
   ],
   "source": [
    "# CODE HERE\n",
    "plt.figure(figsize=(8,6))\n",
    "#sns.heatmap(data=df.drop('Label',axis=1))             Wrong,read que well.We need corr()\n",
    "\n",
    "sns.heatmap(data=df.corr(),cmap='coolwarm')\n",
    "plt.tight_layout()"
   ]
  },
  {
   "cell_type": "markdown",
   "metadata": {},
   "source": [
    "**TASK: What are the top 5 correlated frequencies with the target\\label?**\n",
    "\n",
    "*Note: You many need to map the label to 0s and 1s.*\n",
    "\n",
    "*Additional Note: We're looking for **absolute** correlation values.*"
   ]
  },
  {
   "cell_type": "code",
   "execution_count": 5,
   "metadata": {},
   "outputs": [
    {
     "data": {
      "text/plain": [
       "array(['R', 'M'], dtype=object)"
      ]
     },
     "execution_count": 5,
     "metadata": {},
     "output_type": "execute_result"
    }
   ],
   "source": [
    "df['Label'].unique()"
   ]
  },
  {
   "cell_type": "code",
   "execution_count": 3,
   "metadata": {},
   "outputs": [],
   "source": [
    "#CODE HERE\n",
    "df['Label'].replace(['R','M'],[0,1])"
   ]
  },
  {
   "cell_type": "code",
   "execution_count": 6,
   "metadata": {},
   "outputs": [],
   "source": [
    "#map method\n",
    "df['Target']=df['Label'].map({'R':0,'M':1})"
   ]
  },
  {
   "cell_type": "code",
   "execution_count": 7,
   "metadata": {},
   "outputs": [
    {
     "data": {
      "text/html": [
       "<div>\n",
       "<style scoped>\n",
       "    .dataframe tbody tr th:only-of-type {\n",
       "        vertical-align: middle;\n",
       "    }\n",
       "\n",
       "    .dataframe tbody tr th {\n",
       "        vertical-align: top;\n",
       "    }\n",
       "\n",
       "    .dataframe thead th {\n",
       "        text-align: right;\n",
       "    }\n",
       "</style>\n",
       "<table border=\"1\" class=\"dataframe\">\n",
       "  <thead>\n",
       "    <tr style=\"text-align: right;\">\n",
       "      <th></th>\n",
       "      <th>Freq_1</th>\n",
       "      <th>Freq_2</th>\n",
       "      <th>Freq_3</th>\n",
       "      <th>Freq_4</th>\n",
       "      <th>Freq_5</th>\n",
       "      <th>Freq_6</th>\n",
       "      <th>Freq_7</th>\n",
       "      <th>Freq_8</th>\n",
       "      <th>Freq_9</th>\n",
       "      <th>Freq_10</th>\n",
       "      <th>...</th>\n",
       "      <th>Freq_52</th>\n",
       "      <th>Freq_53</th>\n",
       "      <th>Freq_54</th>\n",
       "      <th>Freq_55</th>\n",
       "      <th>Freq_56</th>\n",
       "      <th>Freq_57</th>\n",
       "      <th>Freq_58</th>\n",
       "      <th>Freq_59</th>\n",
       "      <th>Freq_60</th>\n",
       "      <th>Target</th>\n",
       "    </tr>\n",
       "  </thead>\n",
       "  <tbody>\n",
       "    <tr>\n",
       "      <th>Freq_57</th>\n",
       "      <td>0.313725</td>\n",
       "      <td>0.280341</td>\n",
       "      <td>0.380819</td>\n",
       "      <td>0.340254</td>\n",
       "      <td>0.219395</td>\n",
       "      <td>0.161333</td>\n",
       "      <td>0.186324</td>\n",
       "      <td>0.267212</td>\n",
       "      <td>0.193963</td>\n",
       "      <td>0.140327</td>\n",
       "      <td>...</td>\n",
       "      <td>0.191264</td>\n",
       "      <td>0.308197</td>\n",
       "      <td>0.361443</td>\n",
       "      <td>0.387204</td>\n",
       "      <td>0.515154</td>\n",
       "      <td>1.000000</td>\n",
       "      <td>0.509805</td>\n",
       "      <td>0.431295</td>\n",
       "      <td>0.287219</td>\n",
       "      <td>0.000933</td>\n",
       "    </tr>\n",
       "    <tr>\n",
       "      <th>Freq_58</th>\n",
       "      <td>0.368132</td>\n",
       "      <td>0.353042</td>\n",
       "      <td>0.334108</td>\n",
       "      <td>0.344865</td>\n",
       "      <td>0.238793</td>\n",
       "      <td>0.203986</td>\n",
       "      <td>0.242646</td>\n",
       "      <td>0.287603</td>\n",
       "      <td>0.231745</td>\n",
       "      <td>0.212277</td>\n",
       "      <td>...</td>\n",
       "      <td>0.309673</td>\n",
       "      <td>0.370764</td>\n",
       "      <td>0.404117</td>\n",
       "      <td>0.503465</td>\n",
       "      <td>0.463659</td>\n",
       "      <td>0.509805</td>\n",
       "      <td>1.000000</td>\n",
       "      <td>0.550235</td>\n",
       "      <td>0.329827</td>\n",
       "      <td>0.184191</td>\n",
       "    </tr>\n",
       "    <tr>\n",
       "      <th>Freq_59</th>\n",
       "      <td>0.357116</td>\n",
       "      <td>0.352200</td>\n",
       "      <td>0.425047</td>\n",
       "      <td>0.420266</td>\n",
       "      <td>0.290982</td>\n",
       "      <td>0.220573</td>\n",
       "      <td>0.183578</td>\n",
       "      <td>0.194400</td>\n",
       "      <td>0.097293</td>\n",
       "      <td>0.058273</td>\n",
       "      <td>...</td>\n",
       "      <td>0.298711</td>\n",
       "      <td>0.346095</td>\n",
       "      <td>0.447118</td>\n",
       "      <td>0.453658</td>\n",
       "      <td>0.430804</td>\n",
       "      <td>0.431295</td>\n",
       "      <td>0.550235</td>\n",
       "      <td>1.000000</td>\n",
       "      <td>0.642872</td>\n",
       "      <td>0.130826</td>\n",
       "    </tr>\n",
       "    <tr>\n",
       "      <th>Freq_60</th>\n",
       "      <td>0.347078</td>\n",
       "      <td>0.358761</td>\n",
       "      <td>0.373948</td>\n",
       "      <td>0.400626</td>\n",
       "      <td>0.253710</td>\n",
       "      <td>0.178158</td>\n",
       "      <td>0.222493</td>\n",
       "      <td>0.146216</td>\n",
       "      <td>0.095243</td>\n",
       "      <td>0.097358</td>\n",
       "      <td>...</td>\n",
       "      <td>0.195379</td>\n",
       "      <td>0.280780</td>\n",
       "      <td>0.283471</td>\n",
       "      <td>0.264399</td>\n",
       "      <td>0.349449</td>\n",
       "      <td>0.287219</td>\n",
       "      <td>0.329827</td>\n",
       "      <td>0.642872</td>\n",
       "      <td>1.000000</td>\n",
       "      <td>0.090055</td>\n",
       "    </tr>\n",
       "    <tr>\n",
       "      <th>Target</th>\n",
       "      <td>0.271694</td>\n",
       "      <td>0.231238</td>\n",
       "      <td>0.192195</td>\n",
       "      <td>0.250638</td>\n",
       "      <td>0.222232</td>\n",
       "      <td>0.132327</td>\n",
       "      <td>0.114748</td>\n",
       "      <td>0.189314</td>\n",
       "      <td>0.321448</td>\n",
       "      <td>0.341142</td>\n",
       "      <td>...</td>\n",
       "      <td>0.288651</td>\n",
       "      <td>0.141871</td>\n",
       "      <td>0.182687</td>\n",
       "      <td>0.095639</td>\n",
       "      <td>0.129341</td>\n",
       "      <td>0.000933</td>\n",
       "      <td>0.184191</td>\n",
       "      <td>0.130826</td>\n",
       "      <td>0.090055</td>\n",
       "      <td>1.000000</td>\n",
       "    </tr>\n",
       "  </tbody>\n",
       "</table>\n",
       "<p>5 rows × 61 columns</p>\n",
       "</div>"
      ],
      "text/plain": [
       "           Freq_1    Freq_2    Freq_3    Freq_4    Freq_5    Freq_6    Freq_7  \\\n",
       "Freq_57  0.313725  0.280341  0.380819  0.340254  0.219395  0.161333  0.186324   \n",
       "Freq_58  0.368132  0.353042  0.334108  0.344865  0.238793  0.203986  0.242646   \n",
       "Freq_59  0.357116  0.352200  0.425047  0.420266  0.290982  0.220573  0.183578   \n",
       "Freq_60  0.347078  0.358761  0.373948  0.400626  0.253710  0.178158  0.222493   \n",
       "Target   0.271694  0.231238  0.192195  0.250638  0.222232  0.132327  0.114748   \n",
       "\n",
       "           Freq_8    Freq_9   Freq_10  ...   Freq_52   Freq_53   Freq_54  \\\n",
       "Freq_57  0.267212  0.193963  0.140327  ...  0.191264  0.308197  0.361443   \n",
       "Freq_58  0.287603  0.231745  0.212277  ...  0.309673  0.370764  0.404117   \n",
       "Freq_59  0.194400  0.097293  0.058273  ...  0.298711  0.346095  0.447118   \n",
       "Freq_60  0.146216  0.095243  0.097358  ...  0.195379  0.280780  0.283471   \n",
       "Target   0.189314  0.321448  0.341142  ...  0.288651  0.141871  0.182687   \n",
       "\n",
       "          Freq_55   Freq_56   Freq_57   Freq_58   Freq_59   Freq_60    Target  \n",
       "Freq_57  0.387204  0.515154  1.000000  0.509805  0.431295  0.287219  0.000933  \n",
       "Freq_58  0.503465  0.463659  0.509805  1.000000  0.550235  0.329827  0.184191  \n",
       "Freq_59  0.453658  0.430804  0.431295  0.550235  1.000000  0.642872  0.130826  \n",
       "Freq_60  0.264399  0.349449  0.287219  0.329827  0.642872  1.000000  0.090055  \n",
       "Target   0.095639  0.129341  0.000933  0.184191  0.130826  0.090055  1.000000  \n",
       "\n",
       "[5 rows x 61 columns]"
      ]
     },
     "execution_count": 7,
     "metadata": {},
     "output_type": "execute_result"
    }
   ],
   "source": [
    "df.corr().tail()"
   ]
  },
  {
   "cell_type": "code",
   "execution_count": 8,
   "metadata": {},
   "outputs": [
    {
     "data": {
      "text/plain": [
       "Freq_1     0.271694\n",
       "Freq_2     0.231238\n",
       "Freq_3     0.192195\n",
       "Freq_4     0.250638\n",
       "Freq_5     0.222232\n",
       "             ...   \n",
       "Freq_57    0.000933\n",
       "Freq_58    0.184191\n",
       "Freq_59    0.130826\n",
       "Freq_60    0.090055\n",
       "Target     1.000000\n",
       "Name: Target, Length: 61, dtype: float64"
      ]
     },
     "execution_count": 8,
     "metadata": {},
     "output_type": "execute_result"
    }
   ],
   "source": [
    "df.corr()['Target']"
   ]
  },
  {
   "cell_type": "code",
   "execution_count": 9,
   "metadata": {},
   "outputs": [
    {
     "data": {
      "text/plain": [
       "Target     1.000000\n",
       "Freq_11    0.432855\n",
       "Freq_12    0.392245\n",
       "Freq_49    0.351312\n",
       "Freq_10    0.341142\n",
       "Freq_45    0.339406\n",
       "Name: Target, dtype: float64"
      ]
     },
     "execution_count": 9,
     "metadata": {},
     "output_type": "execute_result"
    }
   ],
   "source": [
    "df.corr()['Target'].nlargest(6)"
   ]
  },
  {
   "cell_type": "code",
   "execution_count": 10,
   "metadata": {},
   "outputs": [
    {
     "data": {
      "text/plain": [
       "Freq_45    0.339406\n",
       "Freq_10    0.341142\n",
       "Freq_49    0.351312\n",
       "Freq_12    0.392245\n",
       "Freq_11    0.432855\n",
       "Target     1.000000\n",
       "Name: Target, dtype: float64"
      ]
     },
     "execution_count": 10,
     "metadata": {},
     "output_type": "execute_result"
    }
   ],
   "source": [
    "np.abs(df.corr()['Target'].nlargest(6)).sort_values()  #answer1"
   ]
  },
  {
   "cell_type": "code",
   "execution_count": 11,
   "metadata": {},
   "outputs": [
    {
     "data": {
      "text/plain": [
       "Freq_45    0.339406\n",
       "Freq_10    0.341142\n",
       "Freq_49    0.351312\n",
       "Freq_12    0.392245\n",
       "Freq_11    0.432855\n",
       "Target     1.000000\n",
       "Name: Target, dtype: float64"
      ]
     },
     "execution_count": 11,
     "metadata": {},
     "output_type": "execute_result"
    }
   ],
   "source": [
    "np.abs(df.corr()['Target'].sort_values()).tail(6)      #answer2 this is good."
   ]
  },
  {
   "cell_type": "markdown",
   "metadata": {},
   "source": [
    "## Train | Test Split\n",
    "\n",
    "Our approach here will be one of using Cross Validation on 90% of the dataset, and then judging our results on a final test set of 10% to evaluate our model.\n",
    "\n",
    "**TASK: Split the data into features and labels, and then split into a training set and test set, with 90% for Cross-Validation training, and 10% for a final test set.**\n",
    "\n",
    "*Note: The solution uses a random_state=42*"
   ]
  },
  {
   "cell_type": "code",
   "execution_count": 12,
   "metadata": {},
   "outputs": [],
   "source": [
    "# CODE HERE\n",
    "X=df.drop(['Label','Target'],axis=1)       # we don't need Target anymore in our ops.\n",
    "y=df['Label']"
   ]
  },
  {
   "cell_type": "code",
   "execution_count": 13,
   "metadata": {},
   "outputs": [],
   "source": [
    "from sklearn.model_selection import train_test_split"
   ]
  },
  {
   "cell_type": "code",
   "execution_count": 14,
   "metadata": {},
   "outputs": [],
   "source": [
    "X_train, X_test, y_train, y_test = train_test_split(X, y, test_size=0.1, random_state=42)"
   ]
  },
  {
   "cell_type": "markdown",
   "metadata": {},
   "source": [
    "**TASK: Create a PipeLine that contains both a StandardScaler and a KNN model**"
   ]
  },
  {
   "cell_type": "code",
   "execution_count": 15,
   "metadata": {},
   "outputs": [],
   "source": [
    "# CODE HERE\n",
    "from sklearn.preprocessing import StandardScaler\n",
    "from sklearn.neighbors import KNeighborsClassifier\n",
    "#from sklearn.pipeline import Pipeline (deploy when use will come)"
   ]
  },
  {
   "cell_type": "code",
   "execution_count": 16,
   "metadata": {},
   "outputs": [],
   "source": [
    "scaler= StandardScaler()"
   ]
  },
  {
   "cell_type": "code",
   "execution_count": 17,
   "metadata": {},
   "outputs": [],
   "source": [
    "knn_model= KNeighborsClassifier()"
   ]
  },
  {
   "cell_type": "code",
   "execution_count": 18,
   "metadata": {},
   "outputs": [
    {
     "data": {
      "text/plain": [
       "dict_keys(['algorithm', 'leaf_size', 'metric', 'metric_params', 'n_jobs', 'n_neighbors', 'p', 'weights'])"
      ]
     },
     "execution_count": 18,
     "metadata": {},
     "output_type": "execute_result"
    }
   ],
   "source": [
    "knn_model.get_params().keys()"
   ]
  },
  {
   "cell_type": "code",
   "execution_count": 19,
   "metadata": {},
   "outputs": [],
   "source": [
    "#Order of operations to perform in the pipeline\n",
    "operations=[('scaler',scaler),('knn',knn_model)]"
   ]
  },
  {
   "cell_type": "code",
   "execution_count": 20,
   "metadata": {},
   "outputs": [],
   "source": [
    "from sklearn.pipeline import Pipeline"
   ]
  },
  {
   "cell_type": "code",
   "execution_count": 21,
   "metadata": {},
   "outputs": [],
   "source": [
    "#estimator\n",
    "pipe= Pipeline(operations)"
   ]
  },
  {
   "cell_type": "markdown",
   "metadata": {},
   "source": [
    "**TASK: Perform a grid-search with the pipeline to test various values of k and report back the best performing parameters.**"
   ]
  },
  {
   "cell_type": "code",
   "execution_count": 22,
   "metadata": {},
   "outputs": [],
   "source": [
    "# CODE HERE\n",
    "from sklearn.model_selection import GridSearchCV"
   ]
  },
  {
   "cell_type": "markdown",
   "metadata": {},
   "source": [
    "GridSearchCV(\n",
    "    estimator,\n",
    "    param_grid,\n",
    "    *,\n",
    "    scoring=None,\n",
    "    n_jobs=None,\n",
    "    refit=True,\n",
    "    cv=None,\n",
    "    verbose=0,\n",
    "    pre_dispatch='2*n_jobs',\n",
    "    error_score=nan,\n",
    "    return_train_score=False,\n",
    ")"
   ]
  },
  {
   "cell_type": "markdown",
   "metadata": {},
   "source": [
    "param_grid : dict or list of dictionaries.\n",
    "    Dictionary with parameters names (`str`) as keys and lists of\n",
    "    parameter settings to try as values, or a list of such\n",
    "    dictionaries, in which case the grids spanned by each dictionary\n",
    "    in the list are explored. This enables searching over any sequence\n",
    "    of parameter settings."
   ]
  },
  {
   "cell_type": "code",
   "execution_count": 23,
   "metadata": {},
   "outputs": [],
   "source": [
    "#keys values for param_grid\n",
    "k_values=list(range(1,30))"
   ]
  },
  {
   "cell_type": "code",
   "execution_count": 24,
   "metadata": {},
   "outputs": [],
   "source": [
    "param_grid= {'knn__n_neighbors':k_values}  # 2spaces after knn"
   ]
  },
  {
   "cell_type": "code",
   "execution_count": 25,
   "metadata": {},
   "outputs": [],
   "source": [
    "full_cv_classifier= GridSearchCV(estimator=pipe,param_grid=param_grid,cv=5,scoring='accuracy')"
   ]
  },
  {
   "cell_type": "code",
   "execution_count": 26,
   "metadata": {},
   "outputs": [
    {
     "data": {
      "text/plain": [
       "GridSearchCV(cv=5,\n",
       "             estimator=Pipeline(steps=[('scaler', StandardScaler()),\n",
       "                                       ('knn', KNeighborsClassifier())]),\n",
       "             param_grid={'knn__n_neighbors': [1, 2, 3, 4, 5, 6, 7, 8, 9, 10, 11,\n",
       "                                              12, 13, 14, 15, 16, 17, 18, 19,\n",
       "                                              20, 21, 22, 23, 24, 25, 26, 27,\n",
       "                                              28, 29]},\n",
       "             scoring='accuracy')"
      ]
     },
     "execution_count": 26,
     "metadata": {},
     "output_type": "execute_result"
    }
   ],
   "source": [
    "full_cv_classifier.fit(X_train,y_train)"
   ]
  },
  {
   "cell_type": "code",
   "execution_count": 27,
   "metadata": {},
   "outputs": [
    {
     "data": {
      "text/plain": [
       "{'memory': None,\n",
       " 'steps': [('scaler', StandardScaler()),\n",
       "  ('knn', KNeighborsClassifier(n_neighbors=1))],\n",
       " 'verbose': False,\n",
       " 'scaler': StandardScaler(),\n",
       " 'knn': KNeighborsClassifier(n_neighbors=1),\n",
       " 'scaler__copy': True,\n",
       " 'scaler__with_mean': True,\n",
       " 'scaler__with_std': True,\n",
       " 'knn__algorithm': 'auto',\n",
       " 'knn__leaf_size': 30,\n",
       " 'knn__metric': 'minkowski',\n",
       " 'knn__metric_params': None,\n",
       " 'knn__n_jobs': None,\n",
       " 'knn__n_neighbors': 1,\n",
       " 'knn__p': 2,\n",
       " 'knn__weights': 'uniform'}"
      ]
     },
     "execution_count": 27,
     "metadata": {},
     "output_type": "execute_result"
    }
   ],
   "source": [
    "full_cv_classifier.best_estimator_.get_params()"
   ]
  },
  {
   "cell_type": "markdown",
   "metadata": {},
   "source": [
    "**(HARD) TASK: Using the .cv_results_ dictionary, see if you can create a plot of the mean test scores per K value.**"
   ]
  },
  {
   "cell_type": "code",
   "execution_count": 28,
   "metadata": {},
   "outputs": [
    {
     "data": {
      "text/plain": [
       "{'mean_fit_time': array([0.01345663, 0.01148224, 0.00100822, 0.01584425, 0.01257267,\n",
       "        0.01104178, 0.00971847, 0.003124  , 0.00507755, 0.00312405,\n",
       "        0.00320001, 0.01249585, 0.01311827, 0.0093719 , 0.01170969,\n",
       "        0.01249609, 0.00773582, 0.0031239 , 0.00370035, 0.0031239 ,\n",
       "        0.00632405, 0.01561985, 0.00826573, 0.01058898, 0.00545712,\n",
       "        0.00769038, 0.00659328, 0.01125236, 0.0034668 ]),\n",
       " 'std_fit_time': array([6.32797409e-03, 6.29676603e-03, 2.01644897e-03, 4.45424067e-04,\n",
       "        3.73336157e-03, 6.19722723e-03, 5.78329749e-03, 6.24799728e-03,\n",
       "        6.89053304e-03, 6.24809265e-03, 3.91919155e-03, 6.24792579e-03,\n",
       "        3.93067614e-03, 7.65212478e-03, 3.49420067e-03, 6.24804546e-03,\n",
       "        5.07826236e-03, 6.24780655e-03, 3.62705915e-03, 6.24780655e-03,\n",
       "        5.86555940e-03, 1.60716052e-06, 4.97246284e-03, 6.45707683e-03,\n",
       "        4.08155594e-03, 6.98956853e-03, 5.96656709e-03, 6.11999690e-03,\n",
       "        4.26683724e-03]),\n",
       " 'mean_score_time': array([0.00901294, 0.00766516, 0.01446118, 0.00165186, 0.00187221,\n",
       "        0.00472383, 0.0047236 , 0.01249599, 0.01097221, 0.0141654 ,\n",
       "        0.01284399, 0.00312414, 0.00319991, 0.0110435 , 0.00507321,\n",
       "        0.00312405, 0.00632348, 0.0124959 , 0.00971432, 0.01249623,\n",
       "        0.01109724, 0.00312424, 0.00944829, 0.00783744, 0.00944996,\n",
       "        0.00784774, 0.00784779, 0.00472393, 0.01097164]),\n",
       " 'std_score_time': array([0.00677755, 0.00699113, 0.00231905, 0.00330372, 0.00310856,\n",
       "        0.00626746, 0.00626699, 0.006248  , 0.00623003, 0.00290883,\n",
       "        0.00342784, 0.00624828, 0.00391907, 0.00619665, 0.00417226,\n",
       "        0.00624809, 0.00586527, 0.00624795, 0.00578311, 0.00624812,\n",
       "        0.00377498, 0.00624847, 0.00582523, 0.00698564, 0.00582668,\n",
       "        0.00698583, 0.00698583, 0.00626734, 0.00622937]),\n",
       " 'param_knn__n_neighbors': masked_array(data=[1, 2, 3, 4, 5, 6, 7, 8, 9, 10, 11, 12, 13, 14, 15, 16,\n",
       "                    17, 18, 19, 20, 21, 22, 23, 24, 25, 26, 27, 28, 29],\n",
       "              mask=[False, False, False, False, False, False, False, False,\n",
       "                    False, False, False, False, False, False, False, False,\n",
       "                    False, False, False, False, False, False, False, False,\n",
       "                    False, False, False, False, False],\n",
       "        fill_value='?',\n",
       "             dtype=object),\n",
       " 'params': [{'knn__n_neighbors': 1},\n",
       "  {'knn__n_neighbors': 2},\n",
       "  {'knn__n_neighbors': 3},\n",
       "  {'knn__n_neighbors': 4},\n",
       "  {'knn__n_neighbors': 5},\n",
       "  {'knn__n_neighbors': 6},\n",
       "  {'knn__n_neighbors': 7},\n",
       "  {'knn__n_neighbors': 8},\n",
       "  {'knn__n_neighbors': 9},\n",
       "  {'knn__n_neighbors': 10},\n",
       "  {'knn__n_neighbors': 11},\n",
       "  {'knn__n_neighbors': 12},\n",
       "  {'knn__n_neighbors': 13},\n",
       "  {'knn__n_neighbors': 14},\n",
       "  {'knn__n_neighbors': 15},\n",
       "  {'knn__n_neighbors': 16},\n",
       "  {'knn__n_neighbors': 17},\n",
       "  {'knn__n_neighbors': 18},\n",
       "  {'knn__n_neighbors': 19},\n",
       "  {'knn__n_neighbors': 20},\n",
       "  {'knn__n_neighbors': 21},\n",
       "  {'knn__n_neighbors': 22},\n",
       "  {'knn__n_neighbors': 23},\n",
       "  {'knn__n_neighbors': 24},\n",
       "  {'knn__n_neighbors': 25},\n",
       "  {'knn__n_neighbors': 26},\n",
       "  {'knn__n_neighbors': 27},\n",
       "  {'knn__n_neighbors': 28},\n",
       "  {'knn__n_neighbors': 29}],\n",
       " 'split0_test_score': array([0.89473684, 0.89473684, 0.89473684, 0.89473684, 0.89473684,\n",
       "        0.89473684, 0.84210526, 0.78947368, 0.78947368, 0.76315789,\n",
       "        0.76315789, 0.76315789, 0.73684211, 0.76315789, 0.76315789,\n",
       "        0.73684211, 0.78947368, 0.78947368, 0.78947368, 0.76315789,\n",
       "        0.76315789, 0.76315789, 0.76315789, 0.76315789, 0.73684211,\n",
       "        0.76315789, 0.71052632, 0.73684211, 0.73684211]),\n",
       " 'split1_test_score': array([0.71052632, 0.68421053, 0.68421053, 0.65789474, 0.63157895,\n",
       "        0.68421053, 0.65789474, 0.63157895, 0.60526316, 0.65789474,\n",
       "        0.65789474, 0.63157895, 0.63157895, 0.60526316, 0.60526316,\n",
       "        0.63157895, 0.60526316, 0.63157895, 0.63157895, 0.60526316,\n",
       "        0.60526316, 0.60526316, 0.60526316, 0.57894737, 0.57894737,\n",
       "        0.57894737, 0.57894737, 0.57894737, 0.57894737]),\n",
       " 'split2_test_score': array([0.83783784, 0.81081081, 0.78378378, 0.78378378, 0.78378378,\n",
       "        0.72972973, 0.75675676, 0.78378378, 0.7027027 , 0.67567568,\n",
       "        0.67567568, 0.67567568, 0.7027027 , 0.67567568, 0.67567568,\n",
       "        0.7027027 , 0.7027027 , 0.7027027 , 0.7027027 , 0.72972973,\n",
       "        0.72972973, 0.75675676, 0.75675676, 0.75675676, 0.75675676,\n",
       "        0.75675676, 0.75675676, 0.72972973, 0.75675676]),\n",
       " 'split3_test_score': array([0.91891892, 0.7027027 , 0.72972973, 0.7027027 , 0.67567568,\n",
       "        0.64864865, 0.7027027 , 0.62162162, 0.67567568, 0.59459459,\n",
       "        0.64864865, 0.62162162, 0.62162162, 0.62162162, 0.67567568,\n",
       "        0.62162162, 0.67567568, 0.62162162, 0.67567568, 0.62162162,\n",
       "        0.67567568, 0.62162162, 0.64864865, 0.64864865, 0.67567568,\n",
       "        0.67567568, 0.64864865, 0.64864865, 0.64864865]),\n",
       " 'split4_test_score': array([0.86486486, 0.81081081, 0.78378378, 0.75675676, 0.81081081,\n",
       "        0.78378378, 0.83783784, 0.75675676, 0.78378378, 0.72972973,\n",
       "        0.75675676, 0.72972973, 0.72972973, 0.72972973, 0.75675676,\n",
       "        0.75675676, 0.78378378, 0.75675676, 0.81081081, 0.67567568,\n",
       "        0.72972973, 0.72972973, 0.7027027 , 0.67567568, 0.67567568,\n",
       "        0.62162162, 0.67567568, 0.59459459, 0.62162162]),\n",
       " 'mean_test_score': array([0.84537696, 0.78065434, 0.77524893, 0.75917496, 0.75931721,\n",
       "        0.74822191, 0.75945946, 0.71664296, 0.7113798 , 0.68421053,\n",
       "        0.70042674, 0.68435277, 0.68449502, 0.67908962, 0.69530583,\n",
       "        0.68990043, 0.7113798 , 0.70042674, 0.72204836, 0.67908962,\n",
       "        0.70071124, 0.69530583, 0.69530583, 0.68463727, 0.68477952,\n",
       "        0.67923186, 0.67411095, 0.65775249, 0.6685633 ]),\n",
       " 'std_test_score': array([0.07275456, 0.07773225, 0.07040318, 0.08054224, 0.0947646 ,\n",
       "        0.08612262, 0.07282517, 0.07441272, 0.06921244, 0.05848259,\n",
       "        0.04941827, 0.05489058, 0.04872595, 0.06065718, 0.05875115,\n",
       "        0.05459044, 0.06921244, 0.06641969, 0.06802109, 0.06065718,\n",
       "        0.05535494, 0.06797377, 0.06118727, 0.0691557 , 0.06206036,\n",
       "        0.07272174, 0.05977172, 0.0659059 , 0.06792821]),\n",
       " 'rank_test_score': array([ 1,  2,  3,  6,  5,  7,  4,  9, 10, 23, 13, 22, 21, 25, 15, 18, 10,\n",
       "        13,  8, 25, 12, 16, 16, 20, 19, 24, 27, 29, 28])}"
      ]
     },
     "execution_count": 28,
     "metadata": {},
     "output_type": "execute_result"
    }
   ],
   "source": [
    "#CODE HERE\n",
    "full_cv_classifier.cv_results_"
   ]
  },
  {
   "cell_type": "code",
   "execution_count": 29,
   "metadata": {},
   "outputs": [
    {
     "data": {
      "text/plain": [
       "array([0.84537696, 0.78065434, 0.77524893, 0.75917496, 0.75931721,\n",
       "       0.74822191, 0.75945946, 0.71664296, 0.7113798 , 0.68421053,\n",
       "       0.70042674, 0.68435277, 0.68449502, 0.67908962, 0.69530583,\n",
       "       0.68990043, 0.7113798 , 0.70042674, 0.72204836, 0.67908962,\n",
       "       0.70071124, 0.69530583, 0.69530583, 0.68463727, 0.68477952,\n",
       "       0.67923186, 0.67411095, 0.65775249, 0.6685633 ])"
      ]
     },
     "execution_count": 29,
     "metadata": {},
     "output_type": "execute_result"
    }
   ],
   "source": [
    "# for mean test score,\n",
    "full_cv_classifier.cv_results_['mean_test_score'] #shit tab works here."
   ]
  },
  {
   "cell_type": "code",
   "execution_count": 30,
   "metadata": {},
   "outputs": [
    {
     "data": {
      "text/plain": [
       "Text(0, 0.5, 'Accuracy')"
      ]
     },
     "execution_count": 30,
     "metadata": {},
     "output_type": "execute_result"
    },
    {
     "data": {
      "image/png": "[encoded data removed]",
      "text/plain": [
       "<Figure size 432x288 with 1 Axes>"
      ]
     },
     "metadata": {
      "needs_background": "light"
     },
     "output_type": "display_data"
    }
   ],
   "source": [
    "#plot using above mean test scores\n",
    "scores=full_cv_classifier.cv_results_['mean_test_score']\n",
    "plt.plot(k_values,scores)\n",
    "plt.xlabel('K')\n",
    "plt.ylabel('Accuracy')"
   ]
  },
  {
   "cell_type": "code",
   "execution_count": 31,
   "metadata": {},
   "outputs": [
    {
     "data": {
      "text/plain": [
       "Text(0, 0.5, 'Accuracy')"
      ]
     },
     "execution_count": 31,
     "metadata": {},
     "output_type": "execute_result"
    },
    {
     "data": {
      "image/png": "[encoded data removed]",
      "text/plain": [
       "<Figure size 432x288 with 1 Axes>"
      ]
     },
     "metadata": {
      "needs_background": "light"
     },
     "output_type": "display_data"
    }
   ],
   "source": [
    "#plot using above mean test scores\n",
    "scores=full_cv_classifier.cv_results_['mean_test_score']\n",
    "plt.plot(k_values,scores,'o-')\n",
    "plt.xlabel('K')\n",
    "plt.ylabel('Accuracy')"
   ]
  },
  {
   "cell_type": "markdown",
   "metadata": {},
   "source": [
    "### Final Model Evaluation\n",
    "\n",
    "**TASK: Using the grid classifier object from the previous step, get a final performance classification report and confusion matrix.**"
   ]
  },
  {
   "cell_type": "code",
   "execution_count": 32,
   "metadata": {},
   "outputs": [],
   "source": [
    "#Code Here\n",
    "from sklearn.metrics import confusion_matrix,classification_report"
   ]
  },
  {
   "cell_type": "code",
   "execution_count": 33,
   "metadata": {},
   "outputs": [],
   "source": [
    "full_pred = full_cv_classifier.predict(X_test)"
   ]
  },
  {
   "cell_type": "code",
   "execution_count": 34,
   "metadata": {},
   "outputs": [
    {
     "data": {
      "text/plain": [
       "'              precision    recall  f1-score   support\\n\\n           M       0.92      0.92      0.92        13\\n           R       0.88      0.88      0.88         8\\n\\n    accuracy                           0.90        21\\n   macro avg       0.90      0.90      0.90        21\\nweighted avg       0.90      0.90      0.90        21\\n'"
      ]
     },
     "execution_count": 34,
     "metadata": {},
     "output_type": "execute_result"
    }
   ],
   "source": [
    "classification_report(y_test,full_pred)"
   ]
  },
  {
   "cell_type": "code",
   "execution_count": 35,
   "metadata": {},
   "outputs": [
    {
     "name": "stdout",
     "output_type": "stream",
     "text": [
      "              precision    recall  f1-score   support\n",
      "\n",
      "           M       0.92      0.92      0.92        13\n",
      "           R       0.88      0.88      0.88         8\n",
      "\n",
      "    accuracy                           0.90        21\n",
      "   macro avg       0.90      0.90      0.90        21\n",
      "weighted avg       0.90      0.90      0.90        21\n",
      "\n"
     ]
    }
   ],
   "source": [
    "print(classification_report(y_test,full_pred))"
   ]
  },
  {
   "cell_type": "code",
   "execution_count": 36,
   "metadata": {},
   "outputs": [
    {
     "data": {
      "text/plain": [
       "array([[12,  1],\n",
       "       [ 1,  7]], dtype=int64)"
      ]
     },
     "execution_count": 36,
     "metadata": {},
     "output_type": "execute_result"
    }
   ],
   "source": [
    "confusion_matrix(full_pred,y_test)"
   ]
  },
  {
   "cell_type": "markdown",
   "metadata": {},
   "source": [
    "-----\n",
    "-----"
   ]
  },
  {
   "cell_type": "markdown",
   "metadata": {},
   "source": [
    "### Thanks! Suggestions are welcome!"
   ]
  }
 ],
 "metadata": {
  "kernelspec": {
   "display_name": "Python 3 (ipykernel)",
   "language": "python",
   "name": "python3"
  },
  "language_info": {
   "codemirror_mode": {
    "name": "ipython",
    "version": 3
   },
   "file_extension": ".py",
   "mimetype": "text/x-python",
   "name": "python",
   "nbconvert_exporter": "python",
   "pygments_lexer": "ipython3",
   "version": "3.8.12"
  }
 },
 "nbformat": 4,
 "nbformat_minor": 4
}
